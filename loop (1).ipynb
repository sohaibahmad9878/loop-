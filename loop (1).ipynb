{
 "cells": [
  {
   "cell_type": "code",
   "execution_count": 34,
   "id": "b784e42a-7f4a-4dfa-83cd-2adb492549d3",
   "metadata": {},
   "outputs": [
    {
     "name": "stdout",
     "output_type": "stream",
     "text": [
      "1\n",
      "2\n",
      "3\n",
      "4\n",
      "5\n"
     ]
    }
   ],
   "source": [
    "#Print numbers from 1 to 5 using a while loop.\n",
    "\n",
    "\n",
    "n = 6\n",
    "i = 1\n",
    "while i<n:\n",
    "    print(i)\n",
    "    i=i+1"
   ]
  },
  {
   "cell_type": "code",
   "execution_count": 36,
   "id": "cb9a5029-cca2-4d26-8d42-6d5beb0c7ad3",
   "metadata": {},
   "outputs": [
    {
     "name": "stdout",
     "output_type": "stream",
     "text": [
      "sum= 55\n"
     ]
    }
   ],
   "source": [
    "#Calculate the sum of numbers from 1 to 10 using a while loop.\n",
    "\n",
    "\n",
    "i=1\n",
    "sum=0\n",
    "while i<=10:\n",
    "    sum=sum+i\n",
    "    i=i+1\n",
    "print(\"sum=\",sum)"
   ]
  },
  {
   "cell_type": "code",
   "execution_count": 40,
   "id": "28952ea5-865a-4a71-b715-2567774484c6",
   "metadata": {},
   "outputs": [
    {
     "name": "stdin",
     "output_type": "stream",
     "text": [
      "enter the number:  4\n"
     ]
    },
    {
     "name": "stdout",
     "output_type": "stream",
     "text": [
      "factorial = 24\n"
     ]
    }
   ],
   "source": [
    "#Calculate the factorial of a number using a for loop.\n",
    "\n",
    "num = int(input(\"enter the number: \"))\n",
    "f=1\n",
    "for i in range (1,num+1):\n",
    "    f=f*i\n",
    "print(\"factorial =\",f)"
   ]
  },
  {
   "cell_type": "code",
   "execution_count": 41,
   "id": "60e0bb60-ecd9-4f22-87ac-5b2f7c3d8760",
   "metadata": {},
   "outputs": [
    {
     "name": "stdin",
     "output_type": "stream",
     "text": [
      "enter the number:  5\n"
     ]
    },
    {
     "name": "stdout",
     "output_type": "stream",
     "text": [
      "factorial = 120\n"
     ]
    }
   ],
   "source": [
    "num = int(input(\"enter the number: \"))\n",
    "f=1\n",
    "for i in range (1,num+1):\n",
    "    f=f*i\n",
    "print(\"factorial =\",f)"
   ]
  },
  {
   "cell_type": "code",
   "execution_count": 44,
   "id": "9dfa763a-581c-4942-9745-9324ae5877a8",
   "metadata": {},
   "outputs": [
    {
     "name": "stdin",
     "output_type": "stream",
     "text": [
      "enter string: learning new skills\n"
     ]
    },
    {
     "name": "stdout",
     "output_type": "stream",
     "text": [
      "vowels  in the input string\n",
      "a : 1\n",
      "e : 2\n",
      "i : 2\n",
      "o : 0\n",
      "u : 0\n"
     ]
    }
   ],
   "source": [
    "#Count the number of vowels in a string using a for loop.\n",
    "\n",
    "string = input(\"enter string:\")\n",
    "string = string.casefold()\n",
    "vowels = \"aeiou\"\n",
    "vowels_str = {}.fromkeys(vowels,0)\n",
    "\n",
    "for char in string:\n",
    "    if char in vowels:vowels_str[char] +=1\n",
    "    \n",
    "print(\"vowels  in the input string\")\n",
    "for i in vowels_str:\n",
    "    print(i, \":\", vowels_str[i])\n"
   ]
  },
  {
   "cell_type": "code",
   "execution_count": 48,
   "id": "20fa6b3e-1a02-4a28-8231-ebb7e19c91a7",
   "metadata": {},
   "outputs": [
    {
     "name": "stdout",
     "output_type": "stream",
     "text": [
      "*\n",
      "**\n",
      "***\n",
      "****\n",
      "*****\n"
     ]
    }
   ],
   "source": [
    "#Print a pattern using nested loops.\n",
    "\n",
    "for i in range(1,6):\n",
    "    for j in range(1,i+1):\n",
    "        print('*',end='')\n",
    "    print()\n",
    "    "
   ]
  },
  {
   "cell_type": "code",
   "execution_count": 51,
   "id": "c0f700c3-8eb8-4b19-a5e6-22df3c07b12c",
   "metadata": {},
   "outputs": [
    {
     "name": "stdin",
     "output_type": "stream",
     "text": [
      "enter the number: 12\n"
     ]
    },
    {
     "name": "stdout",
     "output_type": "stream",
     "text": [
      "12 * 1 = 12\n",
      "12 * 2 = 24\n",
      "12 * 3 = 36\n",
      "12 * 4 = 48\n",
      "12 * 5 = 60\n",
      "12 * 6 = 72\n",
      "12 * 7 = 84\n",
      "12 * 8 = 96\n",
      "12 * 9 = 108\n",
      "12 * 10 = 120\n",
      "12 * 11 = 132\n",
      "12 * 12 = 144\n",
      "12 * 13 = 156\n",
      "12 * 14 = 168\n",
      "12 * 15 = 180\n",
      "12 * 16 = 192\n",
      "12 * 17 = 204\n",
      "12 * 18 = 216\n",
      "12 * 19 = 228\n",
      "12 * 20 = 240\n"
     ]
    }
   ],
   "source": [
    "#Generate a multiplication table using nested loops.\n",
    "\n",
    "n = int(input(\"enter the number:\"))\n",
    "for i in range(1,21):\n",
    "    print(n,\"*\",i,\"=\",n*i)"
   ]
  },
  {
   "cell_type": "code",
   "execution_count": null,
   "id": "368f06b8-2a6f-4e6a-8354-06d099427935",
   "metadata": {},
   "outputs": [],
   "source": []
  }
 ],
 "metadata": {
  "kernelspec": {
   "display_name": "Python 3 (ipykernel)",
   "language": "python",
   "name": "python3"
  },
  "language_info": {
   "codemirror_mode": {
    "name": "ipython",
    "version": 3
   },
   "file_extension": ".py",
   "mimetype": "text/x-python",
   "name": "python",
   "nbconvert_exporter": "python",
   "pygments_lexer": "ipython3",
   "version": "3.10.8"
  }
 },
 "nbformat": 4,
 "nbformat_minor": 5
}
